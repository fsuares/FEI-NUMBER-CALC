{
 "cells": [
  {
   "cell_type": "markdown",
   "metadata": {},
   "source": [
    "## Exemplo1"
   ]
  },
  {
   "cell_type": "code",
   "execution_count": 1,
   "metadata": {},
   "outputs": [
    {
     "name": "stdout",
     "output_type": "stream",
     "text": [
      "-4.0\n",
      "x= 1.0\n",
      "y= 3.0\n",
      "z= 2.0\n"
     ]
    }
   ],
   "source": [
    "# Exemplo de Cramer\n",
    "import numpy as np\n",
    "#cria a matriz incompleta\n",
    "matriz_D=np.matrix([[1,1,1],[1,-1,-1],[2,-1,1]])\n",
    "#calcula o determinante de D\n",
    "D=np.linalg.det(matriz_D)\n",
    "print(round(D,2))\n",
    "#cria a matriz Dx\n",
    "matriz_Dx=np.matrix([[6,1,1],[-4,-1,-1],[1,-1,1]])\n",
    "Dx=np.linalg.det(matriz_Dx)\n",
    "#cria a matriz Dy\n",
    "matriz_Dy=np.matrix([[1,6,1],[1,-4,-1],[2,1,1]])\n",
    "Dy=np.linalg.det(matriz_Dy)\n",
    "#cria a matriz Dz\n",
    "matriz_Dz=np.matrix([[1,1,6],[1,-1,-4],[2,-1,1]])\n",
    "Dz=np.linalg.det(matriz_Dz)\n",
    "x=Dx/D\n",
    "y=Dy/D\n",
    "z=Dz/D\n",
    "print(\"x=\",np.round(x,2))\n",
    "print(\"y=\",np.round(y,2))\n",
    "print(\"z=\", np.round(z,2))"
   ]
  },
  {
   "cell_type": "markdown",
   "metadata": {},
   "source": [
    "## Exemplo 2"
   ]
  },
  {
   "cell_type": "code",
   "execution_count": 3,
   "metadata": {},
   "outputs": [
    {
     "name": "stdout",
     "output_type": "stream",
     "text": [
      "o sistema é indeterminado\n"
     ]
    }
   ],
   "source": [
    "# Resolução de Sistemas Lineares\n",
    "\n",
    "# Eliminação de Gauss\n",
    "\n",
    "import numpy as np\n",
    "x=[]\n",
    "\n",
    "def gaussElimin(C,n,m):\n",
    "    for k in range (0,n):\n",
    "        if C[k,k]==0:\n",
    "            for s in range (k+1,n):\n",
    "                if C[s,k]!=0:\n",
    "                    aux=C[k,:]\n",
    "                    C[k,:]=C[s,:]\n",
    "                    C[s,:]=aux\n",
    "        for i in range (k+1,n):\n",
    "            mik=C[i,k]/C[k,k]\n",
    "            for j in range (k,m):\n",
    "                C[i,j]=C[i,j]-mik*C[k,j] \n",
    "                      \n",
    "    return C\n",
    "\n",
    "A=np.array([[1,-1,1,4],[3,2,1,0],[5,5,1,-4]])\n",
    "#transfoma em float\n",
    "A=A.astype(float)\n",
    "n = len(A)\n",
    "m = len(A[0])\n",
    "X= gaussElimin(A,n,m)\n",
    "if X[n-1,m-2]==0 and X[n-1,m-1]==0:\n",
    "    print('o sistema é indeterminado')\n",
    "elif X[n-1,m-2]==0 and [n-1,m-1]!=0:\n",
    "    print('o sistema é impossível')\n",
    "else:\n",
    "    x = n*[0]\n",
    "    for i in range(n-1, -1, -1):\n",
    "        s = sum([A[i][j]*x[j]for j in range(i+1,n)])\n",
    "        x[i] = (A[i][n] - s)/A[i][i]\n",
    "    print(x)"
   ]
  },
  {
   "cell_type": "markdown",
   "metadata": {},
   "source": [
    "## Exemplo 3"
   ]
  },
  {
   "cell_type": "code",
   "execution_count": 4,
   "metadata": {},
   "outputs": [
    {
     "name": "stdout",
     "output_type": "stream",
     "text": [
      "Resultado do sistema linear\n",
      "[[1.]\n",
      " [1.]\n",
      " [1.]]\n"
     ]
    }
   ],
   "source": [
    "#Importa biblioteca numpy que permite trabalhar com matrizes\n",
    "#Função matrix para definir matrizes\n",
    "#função linalg para fazer matiz inversa\n",
    "import numpy as np\n",
    "#cria a matriz A\n",
    "matriz_A=np.matrix([[6,2,-1],[2,4,1],[3,2,8]])\n",
    "#cria a matriz B\n",
    "matriz_B=([[7],[7],[13]])\n",
    "#cria a matriz inversa de A\n",
    "matriz_A_inv=np.linalg.inv(matriz_A)\n",
    "#Resolve o sistema linear\n",
    "sol=matriz_A_inv*matriz_B\n",
    "print(\"Resultado do sistema linear\")\n",
    "print(sol)"
   ]
  },
  {
   "cell_type": "markdown",
   "metadata": {},
   "source": [
    "## Exemplo 4"
   ]
  },
  {
   "cell_type": "code",
   "execution_count": 5,
   "metadata": {},
   "outputs": [
    {
     "name": "stdout",
     "output_type": "stream",
     "text": [
      "[[1.]\n",
      " [1.]\n",
      " [1.]]\n"
     ]
    }
   ],
   "source": [
    "#Resolve com solve\n",
    "import numpy as np\n",
    "#cria a matriz A\n",
    "matriz_A=np.matrix([[6,2,-1],[2,4,1],[3,2,8]])\n",
    "#cria a matriz B\n",
    "matriz_B=([[7],[7],[13]])\n",
    "sol=np.linalg.solve(matriz_A,matriz_B)\n",
    "print(sol)"
   ]
  },
  {
   "cell_type": "markdown",
   "metadata": {},
   "source": [
    "## Exemplo 5"
   ]
  },
  {
   "cell_type": "code",
   "execution_count": 6,
   "metadata": {},
   "outputs": [
    {
     "data": {
      "text/plain": [
       "{x: 2, y: 1, z: 1}"
      ]
     },
     "execution_count": 6,
     "metadata": {},
     "output_type": "execute_result"
    }
   ],
   "source": [
    "from sympy import Matrix, solve_linear_system\n",
    "from sympy.abc import x, y,z\n",
    "system = Matrix(( (8,-4,-2,10), (-4,10,-2,0),(-2,-2,10,4)))\n",
    "solve_linear_system(system, x, y,z)"
   ]
  },
  {
   "cell_type": "markdown",
   "metadata": {},
   "source": [
    "## Exemplo 6"
   ]
  },
  {
   "cell_type": "code",
   "execution_count": 7,
   "metadata": {},
   "outputs": [
    {
     "data": {
      "text/plain": [
       "{y: 2*z/5 - 12/5, x: 8/5 - 3*z/5}"
      ]
     },
     "execution_count": 7,
     "metadata": {},
     "output_type": "execute_result"
    }
   ],
   "source": [
    "from sympy import Matrix, solve_linear_system\n",
    "from sympy.abc import x, y,z\n",
    "system = Matrix(( (1,-1,1,4), (3,2,1,0),(5,5,1,-4)))\n",
    "solve_linear_system(system, x, y,z)"
   ]
  },
  {
   "cell_type": "code",
   "execution_count": 4,
   "metadata": {},
   "outputs": [
    {
     "name": "stdout",
     "output_type": "stream",
     "text": [
      "[[ 0.30769231]\n",
      " [-1.53846154]\n",
      " [ 2.15384615]]\n",
      "2.8865798640253924e-15\n"
     ]
    }
   ],
   "source": [
    "#Resolve com solve\n",
    "import numpy as np\n",
    "#cria a matriz A\n",
    "matriz_A=np.matrix([[1,-1,1],[3,2,1],[5,5,1]])\n",
    "#cria a matriz B\n",
    "matriz_B=([[4],[0],[-4]])\n",
    "sol=np.linalg.solve(matriz_A,matriz_B)\n",
    "print(sol)\n",
    "D=np.linalg.det(matriz_A)\n",
    "print(D)"
   ]
  },
  {
   "cell_type": "code",
   "execution_count": 2,
   "metadata": {},
   "outputs": [
    {
     "data": {
      "text/plain": [
       "{y: 2*z/5 - 12/5, x: 8/5 - 3*z/5}"
      ]
     },
     "execution_count": 2,
     "metadata": {},
     "output_type": "execute_result"
    }
   ],
   "source": [
    "from sympy import Matrix, solve_linear_system\n",
    "from sympy.abc import x, y,z\n",
    "system = Matrix(( (1,-1,1,4), (3,2,1,0),(5,5,1,-4)))\n",
    "solve_linear_system(system, x, y,z)"
   ]
  },
  {
   "cell_type": "code",
   "execution_count": null,
   "metadata": {},
   "outputs": [],
   "source": []
  }
 ],
 "metadata": {
  "kernelspec": {
   "display_name": "Python 3",
   "language": "python",
   "name": "python3"
  },
  "language_info": {
   "codemirror_mode": {
    "name": "ipython",
    "version": 3
   },
   "file_extension": ".py",
   "mimetype": "text/x-python",
   "name": "python",
   "nbconvert_exporter": "python",
   "pygments_lexer": "ipython3",
   "version": "3.8.5"
  }
 },
 "nbformat": 4,
 "nbformat_minor": 4
}
