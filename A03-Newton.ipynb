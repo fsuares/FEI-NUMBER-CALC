{
 "cells": [
  {
   "cell_type": "markdown",
   "metadata": {},
   "source": [
    "## Exemplo Gráfico"
   ]
  },
  {
   "cell_type": "code",
   "execution_count": 2,
   "metadata": {},
   "outputs": [
    {
     "data": {
      "image/png": "[encoded data removed]",
      "text/plain": [
       "<Figure size 432x288 with 1 Axes>"
      ]
     },
     "metadata": {
      "needs_background": "light"
     },
     "output_type": "display_data"
    }
   ],
   "source": [
    "import matplotlib.pyplot as plt\n",
    "import numpy as np\n",
    "%matplotlib inline  \n",
    "x = np.linspace(-4,4,20)\n",
    "y1 = (x+1)**2\n",
    "y2=np.exp(x)\n",
    "# gera dois gráficos simultaneamente\n",
    "# um com os valores (x,y1) e outro com (x,y2)\n",
    "# armazenando o resultado em uma variável\n",
    "line_1 = plt.plot(x,y1) \n",
    "line_2=plt.plot(x,y2) \n",
    "# o comando \"setp\" especifica o estilo para todos\n",
    "plt.setp(line_1,color='red',linewidth = 2, linestyle = '--') \n",
    "plt.setp(line_2,color='blue',linewidth = 2, linestyle = ':')                                                              \n",
    "plt.grid(True)"
   ]
  },
  {
   "cell_type": "markdown",
   "metadata": {},
   "source": [
    "## Exemplo Teorema de Bolzano"
   ]
  },
  {
   "cell_type": "code",
   "execution_count": 3,
   "metadata": {},
   "outputs": [
    {
     "name": "stdout",
     "output_type": "stream",
     "text": [
      "[[-4 -3 -2 -1  0  1  2  3  4]]\n",
      "[[  8.98168436   3.95021293   0.86466472  -0.36787944   0.\n",
      "    1.28171817   1.6109439   -4.08553692 -29.59815003]]\n"
     ]
    }
   ],
   "source": [
    "import numpy as np\n",
    "x = np.array([i for i in range(-4,5,1)]).reshape((1,9))\n",
    "y=(x+1)**2-np.exp(x);  \n",
    "print(x)\n",
    "print(y)"
   ]
  },
  {
   "cell_type": "markdown",
   "metadata": {},
   "source": [
    "## Exemplo função fsolve"
   ]
  },
  {
   "cell_type": "code",
   "execution_count": null,
   "metadata": {},
   "outputs": [],
   "source": [
    "from scipy.optimize import fsolve\n",
    "from math import exp\n",
    "def y(x):\n",
    "    f=(x+1)**2-exp(x)\n",
    "    return f\n",
    "R=fsolve(y,-1.5) # valor inicial para fsolve\n",
    "print(R)\n"
   ]
  },
  {
   "cell_type": "markdown",
   "metadata": {},
   "source": [
    "## Exemplo Newton Rapshon"
   ]
  },
  {
   "cell_type": "code",
   "execution_count": 2,
   "metadata": {},
   "outputs": [
    {
     "name": "stdout",
     "output_type": "stream",
     "text": [
      "xi:  -1.5\n",
      "x0:  -1.47767006226322\n",
      "f(x0) =  -8.32667268468867e-17\n"
     ]
    }
   ],
   "source": [
    "from sympy import *\n",
    "x=Symbol('x')\n",
    "def NewtonsMethod(x0):\n",
    "    d=diff(f(x),x)\n",
    "    for i in range(1,6,1):\n",
    "        x1 = x0 - (f(x0)/d.doit().subs({x:x0})) \n",
    "        x0 = x1\n",
    "    return x1\n",
    "\n",
    "def f(x):\n",
    "    return (x+1)**2-exp(x)\n",
    "xi = -1.5  # ponto médio do intervalo\n",
    "xr = NewtonsMethod(xi)\n",
    "print('xi: ', xi)\n",
    "print('x0: ', N(xr))\n",
    "print(\"f(x0) = \", N((xr+1)**2-exp(xr)))"
   ]
  },
  {
   "cell_type": "code",
   "execution_count": null,
   "metadata": {},
   "outputs": [],
   "source": []
  }
 ],
 "metadata": {
  "kernelspec": {
   "display_name": "Python 3",
   "language": "python",
   "name": "python3"
  },
  "language_info": {
   "codemirror_mode": {
    "name": "ipython",
    "version": 3
   },
   "file_extension": ".py",
   "mimetype": "text/x-python",
   "name": "python",
   "nbconvert_exporter": "python",
   "pygments_lexer": "ipython3",
   "version": "3.8.5"
  }
 },
 "nbformat": 4,
 "nbformat_minor": 2
}
